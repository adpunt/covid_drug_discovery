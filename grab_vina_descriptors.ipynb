{
 "cells": [
  {
   "cell_type": "code",
   "execution_count": 16,
   "metadata": {},
   "outputs": [],
   "source": [
    "import oddt\n",
    "\n",
    "# from oddt import scoring\n",
    "\n",
    "import pandas as pd\n",
    "\n",
    "import os"
   ]
  },
  {
   "cell_type": "code",
   "execution_count": 5,
   "metadata": {},
   "outputs": [
    {
     "name": "stdout",
     "output_type": "stream",
     "text": [
      "0       CCNC(=O)CN1CC2(CCN(c3cncc4ccccc34)C2=O)c2cc(Cl...\n",
      "1       O=C(CN1CC2(CCN(c3cncc4ccccc34)C2=O)c2cc(Cl)ccc...\n",
      "2       CNC(=O)C1(N2C[C@]3(CCN(c4cncc5ccccc45)C3=O)c3c...\n",
      "3       CNC(=O)C1(N2C[C@@]3(CCN(c4cncc5ccccc45)C3=O)c3...\n",
      "4       CNC(=O)CN1C[C@@]2(CCN(c3cncc4ccccc34)C2=O)c2cc...\n",
      "                              ...                        \n",
      "2057                     N#Cc1cc(Cl)cc(NC(=O)Nc2cccnc2)c1\n",
      "2058                      N#Cc1cccc(NC(=O)Nc2cncc(N)c2)c1\n",
      "2059                 N#Cc1cccc(NC(=O)Nc2c[nH]c3ncccc23)c1\n",
      "2060                   N#Cc1cccc(NC(=O)Cc2cncc3ccccc23)c1\n",
      "2061                        O=C(Cc1cncc2ccccc12)Nc1ccccc1\n",
      "Name: SMILES, Length: 2062, dtype: object 0       LUO-POS-e1dab717-11\n",
      "1       LUO-POS-e1dab717-12\n",
      "2        MAT-POS-e48723dc-1\n",
      "3        MAT-POS-e48723dc-2\n",
      "4        LUO-POS-9931618f-2\n",
      "               ...         \n",
      "2057     WAR-XCH-eb7b662f-2\n",
      "2058     DAR-DIA-23aa0b97-8\n",
      "2059    DAR-DIA-23aa0b97-11\n",
      "2060    DAR-DIA-23aa0b97-19\n",
      "2061    DAR-DIA-23aa0b97-20\n",
      "Name: CID, Length: 2062, dtype: object\n"
     ]
    }
   ],
   "source": [
    "#grab list of SMILES strings from csv\n",
    "\n",
    "\n",
    "df = pd.read_csv(\"activity_data.csv\")\n",
    "#grab protein structure from pdb\n",
    "\n",
    "### we can just do this locally\n"
   ]
  },
  {
   "cell_type": "code",
   "execution_count": 13,
   "metadata": {},
   "outputs": [
    {
     "ename": "SyntaxError",
     "evalue": "'break' outside loop (2013107637.py, line 11)",
     "output_type": "error",
     "traceback": [
      "\u001b[0;36m  Cell \u001b[0;32mIn[13], line 11\u001b[0;36m\u001b[0m\n\u001b[0;31m    break\u001b[0m\n\u001b[0m    ^\u001b[0m\n\u001b[0;31mSyntaxError\u001b[0m\u001b[0;31m:\u001b[0m 'break' outside loop\n"
     ]
    }
   ],
   "source": [
    "#convert SMILES to sdf\n",
    "\n",
    "\n",
    "\n",
    "sdf_folder = \"sdf_folder\"\n",
    "\n",
    "os.makedirs(sdf_folder, exist_ok = True)\n",
    "\n",
    "def convert_SMILES_to_SDF(smiles_string, cid, folder):\n",
    "    print(smiles_string, cid)\n",
    "\n",
    "    #writes sdf file with cid as name \n",
    "\n",
    "    \n",
    "\n",
    "    pass\n",
    "\n",
    "break\n",
    "\n",
    "for idx, string in enumerate(df[\"SMILES\"]):\n",
    "\n",
    "    id = df[\"CID\"][idx]\n",
    "\n",
    "    convert_SMILES_to_SDF(string, id, sdf_folder)\n",
    "\n"
   ]
  },
  {
   "cell_type": "code",
   "execution_count": 2,
   "metadata": {},
   "outputs": [],
   "source": [
    "#run vina on all sdf files\n",
    "\n",
    "descriptor_folder = \"desc_folder\"\n",
    "\n",
    "os.makedirs(descriptor_folder, exist_ok = True)\n",
    "\n",
    "\n",
    "def grab_VINA_descriptors(cid, folder):\n",
    "    file_name = folder+\"/\"+cid+\".sdf\"\n",
    "\n",
    "    #run vina on ligand for a given protein\n",
    "\n",
    "    AV = oddt_vina_descriptor()\n",
    "\n",
    "    #write descriptor to folder\n",
    "\n",
    "\n",
    "\n",
    "\n",
    "    pass\n",
    "\n",
    "\n",
    "break\n",
    "\n",
    "\n",
    "#could change this to \n",
    "for idx, string in enumerate(df[\"SMILES\"]):\n",
    "\n",
    "    try:\n",
    "        grab_VINA_descriptors(string, descriptor_folder)\n",
    "    except:\n",
    "        print(\"vina failed\")\n",
    "#\n",
    "\n"
   ]
  },
  {
   "cell_type": "code",
   "execution_count": null,
   "metadata": {},
   "outputs": [],
   "source": [
    "proteins = ['protein1.pdb', 'protein2.pdb', 'protein3.pdb']\n",
    "ligands = ['ligand1.sdf', 'ligand2.sdf', 'ligand3.sdf']\n",
    "AV = oddt.scoring.descriptors.autodock_vina_descriptor()\n",
    "out = np.zeros((3, 6))\n",
    "for i in range(len(proteins)):\n",
    "    ligand_sdf = next(oddt.toolkit.readfile('sdf', ligands[i]))\n",
    "    protein = next(oddt.toolkit.readfile('pdb', proteins[i]))\n",
    "    protein.protein = True\n",
    "    AVDs_all[i,:] = AV.build(protein = protein, ligands = ligand_sdf)\n",
    "\n",
    "\n",
    "\n",
    "    "
   ]
  }
 ],
 "metadata": {
  "kernelspec": {
   "display_name": "dd_practical",
   "language": "python",
   "name": "python3"
  },
  "language_info": {
   "codemirror_mode": {
    "name": "ipython",
    "version": 3
   },
   "file_extension": ".py",
   "mimetype": "text/x-python",
   "name": "python",
   "nbconvert_exporter": "python",
   "pygments_lexer": "ipython3",
   "version": "3.10.8"
  },
  "orig_nbformat": 4,
  "vscode": {
   "interpreter": {
    "hash": "692bfc0f869df77dddf3504c549ef02756173a074bb39b4a4a4ed9e825a8ca18"
   }
  }
 },
 "nbformat": 4,
 "nbformat_minor": 2
}
